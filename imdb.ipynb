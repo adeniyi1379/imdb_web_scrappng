{
 "cells": [
  {
   "cell_type": "code",
   "execution_count": 1,
   "id": "9959234b",
   "metadata": {},
   "outputs": [],
   "source": [
    "import requests\n",
    "import re\n",
    "from bs4 import BeautifulSoup\n",
    "from time import sleep\n",
    "import pandas as pd"
   ]
  },
  {
   "cell_type": "code",
   "execution_count": 2,
   "id": "4dc27f83",
   "metadata": {},
   "outputs": [],
   "source": [
    "url= \"https://www.imdb.com/chart/top\"\n",
    "ac=\"text/html,application/xhtml+xml,application/xml;q=0.9,image/avif,image/webp,image/apng,*/*;q=0.8,application/signed-exchange;v=b3;q=0.9\"\n",
    "headers={\"Referer\":\"https://www.google.com\",\"Connection\":\"Keep-Alive\",\"Accept-Language\":\"en-US,en;q=0.9\",\"Accept-Encoding\":\"gzip, deflate, br\",\"Accept\":ac,\"User-Agent\":\"Mozilla/5.0 (Windows NT 10.0; Win64; x64) AppleWebKit/537.36 (KHTML, like Gecko) Chrome/108.0.0.0 Safari/537.36\"}"
   ]
  },
  {
   "cell_type": "code",
   "execution_count": 3,
   "id": "3ec5829a",
   "metadata": {},
   "outputs": [],
   "source": [
    "html = requests.get(url,headers=headers)"
   ]
  },
  {
   "cell_type": "code",
   "execution_count": 4,
   "id": "534819c8",
   "metadata": {},
   "outputs": [],
   "source": [
    "soup = BeautifulSoup(html.content,'lxml')"
   ]
  },
  {
   "cell_type": "code",
   "execution_count": 5,
   "id": "1c9b46ae",
   "metadata": {},
   "outputs": [],
   "source": [
    "movies_container = soup.find(\"tbody\", {\"class\":\"lister-list\"})\n",
    "each_movie_group =movies_container.find_all(\"tr\")"
   ]
  },
  {
   "cell_type": "code",
   "execution_count": 6,
   "id": "ecad9852",
   "metadata": {},
   "outputs": [],
   "source": [
    "movies_link = []\n",
    "for movies in each_movie_group:\n",
    "    movies_link.append(movies.find(\"a\")['href'])"
   ]
  },
  {
   "cell_type": "code",
   "execution_count": 7,
   "id": "df61f436",
   "metadata": {},
   "outputs": [],
   "source": [
    "def get_imdb_rating(soup):\n",
    "    \n",
    "    imdb_rating= soup.find(\"div\", {\"class\":\"sc-e457ee34-2\"}).find(\"span\",{\"class\":\"sc-e457ee34-1\"}).text\n",
    "    return imdb_rating\n",
    "\n",
    "def get_popularity(soup):\n",
    "    popularity = soup.find(\"div\",{\"class\":\"sc-8bc809cd-1\"}).text\n",
    "    return popularity\n",
    "\n",
    "def get_movie_genre(soup):\n",
    "    movies_genre_html= soup.find_all(\"span\",{\"class\":\"ipc-chip__text\"})\n",
    "    movie_list= [i.text for i in movies_genre_html if(\"Back\" not in  i.text)]\n",
    "    return movie_list\n",
    "\n",
    "def get_review_info(soup):\n",
    "    review = soup.find(\"div\",{\"class\":\"bwUSkO\"}).next_sibling\n",
    "    review_info={}\n",
    "    for list_item in review.find_all(\"li\"):\n",
    "        review_info[list_item.find(\"span\",{\"class\":\"label\"}).text] = list_item.find(\"span\",{\"class\":\"score\"}).text\n",
    "    return review_info\n",
    "\n",
    "def get_director(soup):\n",
    "    director=soup.find(\"a\",{\"class\":\"ipc-metadata-list-item__list-content-item ipc-metadata-list-item__list-content-item--link\"}).text\n",
    "    return director\n",
    "\n",
    "def get_writers(soup):\n",
    "    writer_html = soup.find_all(\"li\",{\"class\":\"ipc-metadata-list__item\"})\n",
    "    writers = []\n",
    "    for item in writer_html:\n",
    "        if \"Writers\" in item.text:\n",
    "            for links in item.find_all(\"a\"):\n",
    "                if links.text and links.text != \"Writers\":\n",
    "                    writers.append(links.text)\n",
    "            break\n",
    "    return writers\n",
    "\n",
    "def get_country_language_date(soup):\n",
    "    detail_html = soup.find(\"section\",{\"data-testid\": \"Details\"}).find(\"div\",{\"data-testid\": \"title-details-section\"})\n",
    "    detail = {}\n",
    "    try:\n",
    "        for item in detail_html.find_all(\"li\"):\n",
    "            if (item.div and item.button):\n",
    "                if \"Country\" in item.button.text:\n",
    "                    detail[\"country\"] = item.div.text\n",
    "                elif \"Language\" in item.button.text:\n",
    "                    detail[\"language\"] = item.div.text\n",
    "\n",
    "        for item in detail_html.find_all(\"li\"):\n",
    "            if \"date\" in item.text:\n",
    "                detail[\"release_date\"]= item.a.next_sibling.text\n",
    "                break\n",
    "    except Exception as e:\n",
    "        return None\n",
    "    return detail\n",
    "\n",
    "def get_budget_gross(soup):\n",
    "    budget_html = soup.find(\"section\",{\"data-testid\":\"BoxOffice\"})\n",
    "    budget_gross = {}\n",
    "    for item in budget_html.find_all(\"li\"):\n",
    "        if item.button:\n",
    "            if \"Budget\" in item.button.text:\n",
    "                budget_gross[\"budget\"]= item.button.next_sibling.text\n",
    "            elif \"Gross worldwide\" in item.button.text:\n",
    "                budget_gross[\"gross\"]= item.button.next_sibling.text\n",
    "\n",
    "    return budget_gross\n",
    "\n",
    "def get_duration(soup):\n",
    "    duration_html = soup.find(\"section\",{\"data-testid\":\"TechSpecs\"})\n",
    "    duration = None\n",
    "    for item in duration_html.find_all(\"li\"):\n",
    "        if item.button and \"Runtime\" in item.button:\n",
    "            duration= item.button.next_sibling.text\n",
    "    return duration"
   ]
  },
  {
   "cell_type": "code",
   "execution_count": 8,
   "id": "58a99859",
   "metadata": {
    "scrolled": false
   },
   "outputs": [
    {
     "name": "stdout",
     "output_type": "stream",
     "text": [
      "45 'budget'\n",
      "52 'NoneType' object has no attribute 'text'\n",
      "59 'Metascore'\n",
      "62 'Metascore'\n",
      "86 'budget'\n",
      "93 'budget'\n",
      "96 'budget'\n",
      "99 'budget'\n",
      "107 'NoneType' object has no attribute 'find_all'\n",
      "121 'NoneType' object has no attribute 'text'\n",
      "122 'budget'\n",
      "125 'NoneType' object has no attribute 'text'\n",
      "128 'NoneType' object has no attribute 'text'\n",
      "145 'NoneType' object has no attribute 'text'\n",
      "175 'NoneType' object has no attribute 'text'\n",
      "177 'NoneType' object has no attribute 'text'\n",
      "179 'gross'\n",
      "182 'gross'\n",
      "186 'NoneType' object has no attribute 'text'\n",
      "187 'NoneType' object has no attribute 'text'\n",
      "188 'budget'\n",
      "193 'NoneType' object has no attribute 'text'\n",
      "195 'NoneType' object has no attribute 'text'\n",
      "197 'NoneType' object has no attribute 'text'\n",
      "199 'Metascore'\n",
      "207 'NoneType' object has no attribute 'text'\n",
      "208 'NoneType' object has no attribute 'text'\n",
      "223 'NoneType' object has no attribute 'text'\n",
      "227 'NoneType' object has no attribute 'text'\n",
      "229 'Metascore'\n",
      "231 'NoneType' object has no attribute 'text'\n",
      "232 'gross'\n",
      "233 'Metascore'\n",
      "234 'NoneType' object has no attribute 'find_all'\n",
      "235 'NoneType' object has no attribute 'text'\n",
      "240 'NoneType' object has no attribute 'text'\n",
      "243 'budget'\n",
      "246 'NoneType' object has no attribute 'text'\n"
     ]
    }
   ],
   "source": [
    "final_list= []\n",
    "for ind, link in enumerate(movies_link):   \n",
    "    movie_page = requests.get(\"https://www.imdb.com\"+link,headers= headers)\n",
    "    soup = BeautifulSoup(movie_page.content,'lxml')\n",
    "    try:\n",
    "        title = soup.h1.text\n",
    "        popularity= get_popularity(soup)\n",
    "        genre = get_movie_genre(soup)\n",
    "        director = get_director(soup)\n",
    "        imdb_rating = get_imdb_rating(soup)\n",
    "        budget = get_budget_gross(soup)[\"budget\"]\n",
    "        gross = get_budget_gross(soup)[\"gross\"]\n",
    "        language = get_country_language_date(soup)[\"language\"]\n",
    "        released_date= get_country_language_date(soup)[\"release_date\"]\n",
    "        duration = get_duration(soup)\n",
    "        writers = get_writers(soup)\n",
    "        user_review = get_review_info(soup)[\"User reviews\"]\n",
    "        critic_review=  get_review_info(soup)[\"Critic reviews\"]\n",
    "        metascore=  get_review_info(soup)[\"Metascore\"]\n",
    "    except Exception as e:\n",
    "        print(ind+1,e)\n",
    "        continue\n",
    "    \n",
    "    final_list.append({\n",
    "        \"rank\": ind+1,\n",
    "        \"title\":title,\n",
    "        \"popularity\":popularity,\n",
    "        \"genre\":\",\".join(genre),\n",
    "        \"director\":director,\n",
    "        \"imdb_rating\":imdb_rating,\n",
    "        \"budget\":budget,\n",
    "        \"gross\":gross,\n",
    "        \"language\":language,\n",
    "        \"released_date\":released_date,\n",
    "        \"duration\":duration,\n",
    "        \"writers\":\",\".join(writers),\n",
    "        \"user_review\":user_review,\n",
    "        \"critic_review\":critic_review,\n",
    "        \"metascore\":metascore\n",
    "    })\n",
    "    sleep(1)"
   ]
  },
  {
   "cell_type": "code",
   "execution_count": 12,
   "id": "e214b685",
   "metadata": {},
   "outputs": [],
   "source": [
    "df = pd.DataFrame(final_list)"
   ]
  },
  {
   "cell_type": "code",
   "execution_count": 16,
   "id": "f1b483c0",
   "metadata": {},
   "outputs": [],
   "source": [
    "df.to_csv(\"movie_rating.csv\",index=False)"
   ]
  }
 ],
 "metadata": {
  "hide_input": false,
  "kernelspec": {
   "display_name": "Python 3 (ipykernel)",
   "language": "python",
   "name": "python3"
  },
  "language_info": {
   "codemirror_mode": {
    "name": "ipython",
    "version": 3
   },
   "file_extension": ".py",
   "mimetype": "text/x-python",
   "name": "python",
   "nbconvert_exporter": "python",
   "pygments_lexer": "ipython3",
   "version": "3.10.4"
  }
 },
 "nbformat": 4,
 "nbformat_minor": 5
}
